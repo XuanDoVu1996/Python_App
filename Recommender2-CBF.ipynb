{
 "cells": [
  {
   "cell_type": "markdown",
   "id": "7a28d4d2-9b65-455d-87bf-1b401187690c",
   "metadata": {},
   "source": [
    "**LOADING REQUIRED PACKAGES/LIBRARIES**"
   ]
  },
  {
   "cell_type": "code",
   "execution_count": 8,
   "id": "b5188ab9-7123-4ce4-99e9-2d7d7a4dc4fe",
   "metadata": {},
   "outputs": [],
   "source": [
    "# remember to use the below line to install \"surprise\" module in the anaconda prompt\n",
    "#conda install -c conda-forge scikit-surprise\n",
    "import pandas as pd\n",
    "import numpy as np\n",
    "# from surprise import KNNBasic\n",
    "# from surprise import Dataset\n",
    "# from surprise import Reader\n",
    "import matplotlib.pyplot as plt\n",
    "import datetime\n",
    "import pandas as pd"
   ]
  },
  {
   "cell_type": "markdown",
   "id": "1185a576-5044-4ecc-ab64-f4abbe520e80",
   "metadata": {},
   "source": [
    "# **I. Data cleaning and exploration**"
   ]
  },
  {
   "cell_type": "markdown",
   "id": "b2782002-ef43-42ed-ad18-60382de32cf7",
   "metadata": {},
   "source": [
    "## **Load data**"
   ]
  },
  {
   "cell_type": "code",
   "execution_count": 9,
   "id": "c72bfd88",
   "metadata": {
    "scrolled": true
   },
   "outputs": [
    {
     "data": {
      "text/plain": [
       "Index(['author_id', 'rating_x', 'is_recommended', 'helpfulness',\n",
       "       'total_feedback_count', 'total_neg_feedback_count',\n",
       "       'total_pos_feedback_count', 'submission_time', 'review_text',\n",
       "       'review_title', 'skin_tone', 'eye_color', 'skin_type', 'hair_color',\n",
       "       'product_id', 'product_name_x', 'brand_name_x', 'price_usd_x',\n",
       "       'brand_id', 'ingredients', 'limited_edition', 'out_of_stock',\n",
       "       'sephora_exclusive', 'highlights', 'primary_category', 'num_rating',\n",
       "       'niche_product'],\n",
       "      dtype='object')"
      ]
     },
     "execution_count": 9,
     "metadata": {},
     "output_type": "execute_result"
    }
   ],
   "source": [
    "#Load user data\n",
    "data = pd.read_csv(\"data/full_data_cleaned.csv\")\n",
    "data.columns"
   ]
  },
  {
   "cell_type": "code",
   "execution_count": 10,
   "id": "820a8291-4178-4ce8-983b-21ee84215ed4",
   "metadata": {},
   "outputs": [
    {
     "data": {
      "text/html": [
       "<div>\n",
       "<style scoped>\n",
       "    .dataframe tbody tr th:only-of-type {\n",
       "        vertical-align: middle;\n",
       "    }\n",
       "\n",
       "    .dataframe tbody tr th {\n",
       "        vertical-align: top;\n",
       "    }\n",
       "\n",
       "    .dataframe thead th {\n",
       "        text-align: right;\n",
       "    }\n",
       "</style>\n",
       "<table border=\"1\" class=\"dataframe\">\n",
       "  <thead>\n",
       "    <tr style=\"text-align: right;\">\n",
       "      <th></th>\n",
       "      <th>product_id</th>\n",
       "      <th>rating_x</th>\n",
       "      <th>niche_product</th>\n",
       "    </tr>\n",
       "  </thead>\n",
       "  <tbody>\n",
       "    <tr>\n",
       "      <th>0</th>\n",
       "      <td>P114902</td>\n",
       "      <td>4.458924</td>\n",
       "      <td>0</td>\n",
       "    </tr>\n",
       "    <tr>\n",
       "      <th>1</th>\n",
       "      <td>P12045</td>\n",
       "      <td>4.468599</td>\n",
       "      <td>0</td>\n",
       "    </tr>\n",
       "  </tbody>\n",
       "</table>\n",
       "</div>"
      ],
      "text/plain": [
       "  product_id  rating_x  niche_product\n",
       "0    P114902  4.458924              0\n",
       "1     P12045  4.468599              0"
      ]
     },
     "execution_count": 10,
     "metadata": {},
     "output_type": "execute_result"
    }
   ],
   "source": [
    "#group by product_id and get the average rating and niche\n",
    "data1 = data.groupby('product_id').agg({'rating_x': 'mean', 'niche_product': 'first'}).reset_index()\n",
    "data1.head(2)"
   ]
  },
  {
   "cell_type": "code",
   "execution_count": 11,
   "id": "089e63df",
   "metadata": {},
   "outputs": [],
   "source": [
    "#function to filter data based on user input \n",
    "def filter_data(price, skin_tone, skin_type, eye_color, hair_color):\n",
    "    filtered_data = data\n",
    "    if price != None:\n",
    "        filtered_data = filtered_data[filtered_data['price_usd_x'] <= price]\n",
    "    if skin_tone != None:\n",
    "        filtered_data = filtered_data[filtered_data['skin_tone'] == skin_tone]\n",
    "    if skin_type != None:\n",
    "        filtered_data = filtered_data[filtered_data['skin_type'] == skin_type]\n",
    "    if eye_color != None:\n",
    "        filtered_data = filtered_data[filtered_data['eye_color'] == eye_color]\n",
    "    if hair_color != None:\n",
    "        filtered_data = filtered_data[filtered_data['hair_color'] == hair_color]\n",
    "    return filtered_data\n",
    "data = filter_data(price = None, skin_tone= None, skin_type = None, eye_color = None, hair_color = None)"
   ]
  },
  {
   "cell_type": "code",
   "execution_count": 12,
   "id": "f5501295",
   "metadata": {},
   "outputs": [
    {
     "data": {
      "text/html": [
       "<div>\n",
       "<style scoped>\n",
       "    .dataframe tbody tr th:only-of-type {\n",
       "        vertical-align: middle;\n",
       "    }\n",
       "\n",
       "    .dataframe tbody tr th {\n",
       "        vertical-align: top;\n",
       "    }\n",
       "\n",
       "    .dataframe thead th {\n",
       "        text-align: right;\n",
       "    }\n",
       "</style>\n",
       "<table border=\"1\" class=\"dataframe\">\n",
       "  <thead>\n",
       "    <tr style=\"text-align: right;\">\n",
       "      <th></th>\n",
       "      <th>limited_edition</th>\n",
       "      <th>sephora_exclusive</th>\n",
       "      <th>niche_product</th>\n",
       "      <th>brand_id_1063</th>\n",
       "      <th>brand_id_1073</th>\n",
       "      <th>brand_id_1132</th>\n",
       "      <th>brand_id_1254</th>\n",
       "      <th>brand_id_1741</th>\n",
       "      <th>brand_id_2000</th>\n",
       "      <th>brand_id_2082</th>\n",
       "      <th>...</th>\n",
       "      <th>sles</th>\n",
       "      <th>sls</th>\n",
       "      <th>spf</th>\n",
       "      <th>spots</th>\n",
       "      <th>sulfates</th>\n",
       "      <th>texture</th>\n",
       "      <th>uneven</th>\n",
       "      <th>vegan</th>\n",
       "      <th>vitamin</th>\n",
       "      <th>without</th>\n",
       "    </tr>\n",
       "    <tr>\n",
       "      <th>product_id</th>\n",
       "      <th></th>\n",
       "      <th></th>\n",
       "      <th></th>\n",
       "      <th></th>\n",
       "      <th></th>\n",
       "      <th></th>\n",
       "      <th></th>\n",
       "      <th></th>\n",
       "      <th></th>\n",
       "      <th></th>\n",
       "      <th></th>\n",
       "      <th></th>\n",
       "      <th></th>\n",
       "      <th></th>\n",
       "      <th></th>\n",
       "      <th></th>\n",
       "      <th></th>\n",
       "      <th></th>\n",
       "      <th></th>\n",
       "      <th></th>\n",
       "      <th></th>\n",
       "    </tr>\n",
       "  </thead>\n",
       "  <tbody>\n",
       "    <tr>\n",
       "      <th>P114902</th>\n",
       "      <td>0</td>\n",
       "      <td>0</td>\n",
       "      <td>0</td>\n",
       "      <td>0</td>\n",
       "      <td>0</td>\n",
       "      <td>0</td>\n",
       "      <td>0</td>\n",
       "      <td>0</td>\n",
       "      <td>0</td>\n",
       "      <td>0</td>\n",
       "      <td>...</td>\n",
       "      <td>0.33523</td>\n",
       "      <td>0.33523</td>\n",
       "      <td>0.0</td>\n",
       "      <td>0.0</td>\n",
       "      <td>0.33523</td>\n",
       "      <td>0.0</td>\n",
       "      <td>0.0</td>\n",
       "      <td>0.0</td>\n",
       "      <td>0.0</td>\n",
       "      <td>0.233399</td>\n",
       "    </tr>\n",
       "    <tr>\n",
       "      <th>P12045</th>\n",
       "      <td>0</td>\n",
       "      <td>0</td>\n",
       "      <td>0</td>\n",
       "      <td>0</td>\n",
       "      <td>0</td>\n",
       "      <td>0</td>\n",
       "      <td>0</td>\n",
       "      <td>0</td>\n",
       "      <td>0</td>\n",
       "      <td>0</td>\n",
       "      <td>...</td>\n",
       "      <td>0.00000</td>\n",
       "      <td>0.00000</td>\n",
       "      <td>0.0</td>\n",
       "      <td>0.0</td>\n",
       "      <td>0.00000</td>\n",
       "      <td>0.0</td>\n",
       "      <td>0.0</td>\n",
       "      <td>0.0</td>\n",
       "      <td>0.0</td>\n",
       "      <td>0.000000</td>\n",
       "    </tr>\n",
       "  </tbody>\n",
       "</table>\n",
       "<p>2 rows × 449 columns</p>\n",
       "</div>"
      ],
      "text/plain": [
       "            limited_edition  sephora_exclusive  niche_product  brand_id_1063  \\\n",
       "product_id                                                                     \n",
       "P114902                   0                  0              0              0   \n",
       "P12045                    0                  0              0              0   \n",
       "\n",
       "            brand_id_1073  brand_id_1132  brand_id_1254  brand_id_1741  \\\n",
       "product_id                                                               \n",
       "P114902                 0              0              0              0   \n",
       "P12045                  0              0              0              0   \n",
       "\n",
       "            brand_id_2000  brand_id_2082  ...     sles      sls  spf  spots  \\\n",
       "product_id                                ...                                 \n",
       "P114902                 0              0  ...  0.33523  0.33523  0.0    0.0   \n",
       "P12045                  0              0  ...  0.00000  0.00000  0.0    0.0   \n",
       "\n",
       "            sulfates  texture  uneven  vegan  vitamin   without  \n",
       "product_id                                                       \n",
       "P114902      0.33523      0.0     0.0    0.0      0.0  0.233399  \n",
       "P12045       0.00000      0.0     0.0    0.0      0.0  0.000000  \n",
       "\n",
       "[2 rows x 449 columns]"
      ]
     },
     "execution_count": 12,
     "metadata": {},
     "output_type": "execute_result"
    }
   ],
   "source": [
    "# Extract product characteristics\n",
    "product_characteristics = data.groupby('product_id').agg({'brand_id': 'first', 'limited_edition': 'first', 'sephora_exclusive': 'first',\n",
    "                                                         'primary_category': 'first', 'ingredients': 'first',\n",
    "                                     'highlights': 'first', 'niche_product': 'first'})\n",
    "#covert brand_id and primary_category to dummy variables\n",
    "product_characteristics = pd.get_dummies(product_characteristics, columns=['brand_id', 'primary_category'], prefix=['brand_id', 'category'])\n",
    "\n",
    "#convert all columns except the ingredients and highlights to integer\n",
    "var = product_characteristics.columns.tolist()\n",
    "var.remove('ingredients')\n",
    "var.remove('highlights')\n",
    "product_characteristics[var] = product_characteristics[var].astype(int)\n",
    "#create function to trim the variable\n",
    "def trim_func(df, col):\n",
    "    df[col] = df[col].str.lower() #convert to lower case\n",
    "    df[col] = df[col].str.replace(r'\\d+', '') #remove digits\n",
    "    df[col] = df[col].str.replace(r'\\W', ' ') #remove special characters\n",
    "    df[col] = df[col].str.replace(r'\\s+', ' ') #remove extra spaces\n",
    "    df[col] = df[col].str.strip() #remove leading and trailing spaces\n",
    "    return df\n",
    "\n",
    "product_characteristics = trim_func(product_characteristics, 'highlights') #trimming the highlights column\n",
    "product_characteristics = trim_func(product_characteristics, 'ingredients') #trimming the ingredients column\n",
    "\n",
    "#function to vectorize the text data\n",
    "from sklearn.feature_extraction.text import TfidfVectorizer\n",
    "def vectorize_text(df, col):\n",
    "    vectorizer = TfidfVectorizer(min_df = 100, max_df = 0.7) #Vectorizing the description\n",
    "    vectorized_col = vectorizer.fit_transform(df[col])\n",
    "    vectorized_df = pd.DataFrame(vectorized_col.toarray(), columns=vectorizer.get_feature_names_out(), index=df.index)\n",
    "    #concatenate the vectorized column with the original dataframe\n",
    "    df = pd.concat([df, vectorized_df], axis=1)\n",
    "    #drop the original column\n",
    "    df.drop(col, axis=1, inplace=True)\n",
    "    return df\n",
    "product_characteristics = vectorize_text(product_characteristics, 'ingredients') #vectorize the highlights column\n",
    "product_characteristics = vectorize_text(product_characteristics, 'highlights') #vectorize the ingredients column\n",
    "\n",
    "\n",
    "product_characteristics.head(2)"
   ]
  },
  {
   "cell_type": "markdown",
   "id": "65f476d2",
   "metadata": {},
   "source": [
    "# Content Based Recommendation System"
   ]
  },
  {
   "cell_type": "code",
   "execution_count": 13,
   "id": "4a695910",
   "metadata": {},
   "outputs": [],
   "source": [
    "from sklearn.metrics.pairwise import cosine_similarity\n",
    "#merge product characteristics and review data\n",
    "df = pd.merge(data.drop(['limited_edition', 'niche_product','sephora_exclusive'], axis = 1),\n",
    "               product_characteristics, left_on='product_id', right_index=True)\n"
   ]
  },
  {
   "cell_type": "code",
   "execution_count": 14,
   "id": "7c2d8fbb",
   "metadata": {},
   "outputs": [],
   "source": [
    "#build recommendation system based on products users have used\n",
    "def product_characteristics_recommender(product_lst, n_recommendation, df1 = product_characteristics, df2 = df):\n",
    "    users_products = df1.reindex(product_lst) #characteristics of the products used by the user\n",
    "    users_prof = users_products.mean() #average score of the products used by the user\n",
    "    non_user_products = df1.drop(product_lst, axis = 0 ) #subset of products not used by the user\n",
    "    #calculate the similarity between the user's products and all other products\n",
    "    user_prof_similarity = cosine_similarity(users_prof.values.reshape(1, -1), non_user_products)\n",
    "    #convert the similarity to a dataframe\n",
    "    user_prof_similarity_df = pd.DataFrame(user_prof_similarity.T, \n",
    "                                          index = non_user_products.index,\n",
    "                                            columns = ['similarity']).sort_values(by = 'similarity', ascending = False)\n",
    "    \n",
    "    #return the top n recommendations\n",
    "    top_n = user_prof_similarity_df.head(n_recommendation)\n",
    "    top_n = pd.merge(top_n, data1, on='product_id') #add the average rating\n",
    "    top_n['weighted_sum'] = top_n['rating_x']*top_n['similarity'] #calculate the weighted sum\n",
    "    #calculate the predicted rating\n",
    "    pred = top_n['weighted_sum'].sum()/top_n['similarity'].sum()\n",
    "    return pred, top_n['product_id'].unique()"
   ]
  },
  {
   "cell_type": "code",
   "execution_count": 15,
   "id": "d0f85c6d",
   "metadata": {},
   "outputs": [
    {
     "data": {
      "text/plain": [
       "(4.40763312885391,\n",
       " array(['P443563', 'P457005', 'P469490', 'P471237', 'P12336'], dtype=object))"
      ]
     },
     "execution_count": 15,
     "metadata": {},
     "output_type": "execute_result"
    }
   ],
   "source": [
    "product_characteristics_recommender(['P420652', 'P7880'], 5)"
   ]
  }
 ],
 "metadata": {
  "kernelspec": {
   "display_name": "Python 3 (ipykernel)",
   "language": "python",
   "name": "python3"
  },
  "language_info": {
   "codemirror_mode": {
    "name": "ipython",
    "version": 3
   },
   "file_extension": ".py",
   "mimetype": "text/x-python",
   "name": "python",
   "nbconvert_exporter": "python",
   "pygments_lexer": "ipython3",
   "version": "3.11.8"
  }
 },
 "nbformat": 4,
 "nbformat_minor": 5
}
