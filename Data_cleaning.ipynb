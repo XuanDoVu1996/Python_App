{
 "cells": [
  {
   "cell_type": "markdown",
   "id": "7a28d4d2-9b65-455d-87bf-1b401187690c",
   "metadata": {},
   "source": [
    "**LOADING REQUIRED PACKAGES/LIBRARIES**"
   ]
  },
  {
   "cell_type": "code",
   "execution_count": 1,
   "id": "b5188ab9-7123-4ce4-99e9-2d7d7a4dc4fe",
   "metadata": {},
   "outputs": [],
   "source": [
    "import pandas as pd\n",
    "import numpy as np\n",
    "import matplotlib.pyplot as plt\n",
    "import datetime"
   ]
  },
  {
   "cell_type": "markdown",
   "id": "b2782002-ef43-42ed-ad18-60382de32cf7",
   "metadata": {},
   "source": [
    "# 0. Load data"
   ]
  },
  {
   "cell_type": "code",
   "execution_count": 2,
   "id": "4763b83b-18b4-4a35-b1dc-da4aeac0129c",
   "metadata": {},
   "outputs": [],
   "source": [
    "# load all 5 data of users' rating\n",
    "rating_df_1 = pd.read_csv(\"data/reviews_0-250.csv\", low_memory=False)\n",
    "rating_df_2 = pd.read_csv(\"data/reviews_250-500.csv\", low_memory=False)\n",
    "rating_df_3 = pd.read_csv(\"data/reviews_500-750.csv\", low_memory=False)\n",
    "rating_df_4 = pd.read_csv(\"data/reviews_750-1250.csv\", low_memory=False)\n",
    "rating_df_5 = pd.read_csv(\"data/reviews_1250-end.csv\", low_memory=False)"
   ]
  },
  {
   "cell_type": "code",
   "execution_count": 3,
   "id": "c5f153ef-a05d-4fbd-a278-a4a7bce01991",
   "metadata": {},
   "outputs": [
    {
     "data": {
      "text/html": [
       "<div>\n",
       "<style scoped>\n",
       "    .dataframe tbody tr th:only-of-type {\n",
       "        vertical-align: middle;\n",
       "    }\n",
       "\n",
       "    .dataframe tbody tr th {\n",
       "        vertical-align: top;\n",
       "    }\n",
       "\n",
       "    .dataframe thead th {\n",
       "        text-align: right;\n",
       "    }\n",
       "</style>\n",
       "<table border=\"1\" class=\"dataframe\">\n",
       "  <thead>\n",
       "    <tr style=\"text-align: right;\">\n",
       "      <th></th>\n",
       "      <th>product_id</th>\n",
       "      <th>product_name</th>\n",
       "      <th>brand_id</th>\n",
       "      <th>brand_name</th>\n",
       "      <th>loves_count</th>\n",
       "      <th>rating</th>\n",
       "      <th>reviews</th>\n",
       "      <th>size</th>\n",
       "      <th>variation_type</th>\n",
       "      <th>variation_value</th>\n",
       "      <th>...</th>\n",
       "      <th>online_only</th>\n",
       "      <th>out_of_stock</th>\n",
       "      <th>sephora_exclusive</th>\n",
       "      <th>highlights</th>\n",
       "      <th>primary_category</th>\n",
       "      <th>secondary_category</th>\n",
       "      <th>tertiary_category</th>\n",
       "      <th>child_count</th>\n",
       "      <th>child_max_price</th>\n",
       "      <th>child_min_price</th>\n",
       "    </tr>\n",
       "  </thead>\n",
       "  <tbody>\n",
       "    <tr>\n",
       "      <th>0</th>\n",
       "      <td>P473671</td>\n",
       "      <td>Fragrance Discovery Set</td>\n",
       "      <td>6342</td>\n",
       "      <td>19-69</td>\n",
       "      <td>6320</td>\n",
       "      <td>3.6364</td>\n",
       "      <td>11.0</td>\n",
       "      <td>NaN</td>\n",
       "      <td>NaN</td>\n",
       "      <td>NaN</td>\n",
       "      <td>...</td>\n",
       "      <td>1</td>\n",
       "      <td>0</td>\n",
       "      <td>0</td>\n",
       "      <td>['Unisex/ Genderless Scent', 'Warm &amp;Spicy Scen...</td>\n",
       "      <td>Fragrance</td>\n",
       "      <td>Value &amp; Gift Sets</td>\n",
       "      <td>Perfume Gift Sets</td>\n",
       "      <td>0</td>\n",
       "      <td>NaN</td>\n",
       "      <td>NaN</td>\n",
       "    </tr>\n",
       "    <tr>\n",
       "      <th>1</th>\n",
       "      <td>P473668</td>\n",
       "      <td>La Habana Eau de Parfum</td>\n",
       "      <td>6342</td>\n",
       "      <td>19-69</td>\n",
       "      <td>3827</td>\n",
       "      <td>4.1538</td>\n",
       "      <td>13.0</td>\n",
       "      <td>3.4 oz/ 100 mL</td>\n",
       "      <td>Size + Concentration + Formulation</td>\n",
       "      <td>3.4 oz/ 100 mL</td>\n",
       "      <td>...</td>\n",
       "      <td>1</td>\n",
       "      <td>0</td>\n",
       "      <td>0</td>\n",
       "      <td>['Unisex/ Genderless Scent', 'Layerable Scent'...</td>\n",
       "      <td>Fragrance</td>\n",
       "      <td>Women</td>\n",
       "      <td>Perfume</td>\n",
       "      <td>2</td>\n",
       "      <td>85.0</td>\n",
       "      <td>30.0</td>\n",
       "    </tr>\n",
       "  </tbody>\n",
       "</table>\n",
       "<p>2 rows × 27 columns</p>\n",
       "</div>"
      ],
      "text/plain": [
       "  product_id             product_name  brand_id brand_name  loves_count  \\\n",
       "0    P473671  Fragrance Discovery Set      6342      19-69         6320   \n",
       "1    P473668  La Habana Eau de Parfum      6342      19-69         3827   \n",
       "\n",
       "   rating  reviews            size                      variation_type  \\\n",
       "0  3.6364     11.0             NaN                                 NaN   \n",
       "1  4.1538     13.0  3.4 oz/ 100 mL  Size + Concentration + Formulation   \n",
       "\n",
       "  variation_value  ... online_only out_of_stock  sephora_exclusive  \\\n",
       "0             NaN  ...           1            0                  0   \n",
       "1  3.4 oz/ 100 mL  ...           1            0                  0   \n",
       "\n",
       "                                          highlights  primary_category  \\\n",
       "0  ['Unisex/ Genderless Scent', 'Warm &Spicy Scen...         Fragrance   \n",
       "1  ['Unisex/ Genderless Scent', 'Layerable Scent'...         Fragrance   \n",
       "\n",
       "   secondary_category  tertiary_category  child_count  child_max_price  \\\n",
       "0   Value & Gift Sets  Perfume Gift Sets            0              NaN   \n",
       "1               Women            Perfume            2             85.0   \n",
       "\n",
       "   child_min_price  \n",
       "0              NaN  \n",
       "1             30.0  \n",
       "\n",
       "[2 rows x 27 columns]"
      ]
     },
     "execution_count": 3,
     "metadata": {},
     "output_type": "execute_result"
    }
   ],
   "source": [
    "# Load product data\n",
    "product_df = pd.read_csv(\"data/product_info.csv\")\n",
    "product_df.head(2)"
   ]
  },
  {
   "cell_type": "markdown",
   "id": "e2121b12-ebc5-44d5-9f37-ff17d301fee0",
   "metadata": {},
   "source": [
    "# 1. Combine data"
   ]
  },
  {
   "cell_type": "code",
   "execution_count": 4,
   "id": "fcb73a21-7f23-4c79-86fa-35711d1a1de7",
   "metadata": {},
   "outputs": [
    {
     "data": {
      "text/html": [
       "<div>\n",
       "<style scoped>\n",
       "    .dataframe tbody tr th:only-of-type {\n",
       "        vertical-align: middle;\n",
       "    }\n",
       "\n",
       "    .dataframe tbody tr th {\n",
       "        vertical-align: top;\n",
       "    }\n",
       "\n",
       "    .dataframe thead th {\n",
       "        text-align: right;\n",
       "    }\n",
       "</style>\n",
       "<table border=\"1\" class=\"dataframe\">\n",
       "  <thead>\n",
       "    <tr style=\"text-align: right;\">\n",
       "      <th></th>\n",
       "      <th>Unnamed: 0</th>\n",
       "      <th>author_id</th>\n",
       "      <th>rating</th>\n",
       "      <th>is_recommended</th>\n",
       "      <th>helpfulness</th>\n",
       "      <th>total_feedback_count</th>\n",
       "      <th>total_neg_feedback_count</th>\n",
       "      <th>total_pos_feedback_count</th>\n",
       "      <th>submission_time</th>\n",
       "      <th>review_text</th>\n",
       "      <th>review_title</th>\n",
       "      <th>skin_tone</th>\n",
       "      <th>eye_color</th>\n",
       "      <th>skin_type</th>\n",
       "      <th>hair_color</th>\n",
       "      <th>product_id</th>\n",
       "      <th>product_name</th>\n",
       "      <th>brand_name</th>\n",
       "      <th>price_usd</th>\n",
       "    </tr>\n",
       "  </thead>\n",
       "  <tbody>\n",
       "    <tr>\n",
       "      <th>0</th>\n",
       "      <td>0</td>\n",
       "      <td>1741593524</td>\n",
       "      <td>5</td>\n",
       "      <td>1.0</td>\n",
       "      <td>1.0</td>\n",
       "      <td>2</td>\n",
       "      <td>0</td>\n",
       "      <td>2</td>\n",
       "      <td>2023-02-01</td>\n",
       "      <td>I use this with the Nudestix “Citrus Clean Bal...</td>\n",
       "      <td>Taught me how to double cleanse!</td>\n",
       "      <td>NaN</td>\n",
       "      <td>brown</td>\n",
       "      <td>dry</td>\n",
       "      <td>black</td>\n",
       "      <td>P504322</td>\n",
       "      <td>Gentle Hydra-Gel Face Cleanser</td>\n",
       "      <td>NUDESTIX</td>\n",
       "      <td>19.0</td>\n",
       "    </tr>\n",
       "    <tr>\n",
       "      <th>1</th>\n",
       "      <td>1</td>\n",
       "      <td>31423088263</td>\n",
       "      <td>1</td>\n",
       "      <td>0.0</td>\n",
       "      <td>NaN</td>\n",
       "      <td>0</td>\n",
       "      <td>0</td>\n",
       "      <td>0</td>\n",
       "      <td>2023-03-21</td>\n",
       "      <td>I bought this lip mask after reading the revie...</td>\n",
       "      <td>Disappointed</td>\n",
       "      <td>NaN</td>\n",
       "      <td>NaN</td>\n",
       "      <td>NaN</td>\n",
       "      <td>NaN</td>\n",
       "      <td>P420652</td>\n",
       "      <td>Lip Sleeping Mask Intense Hydration with Vitam...</td>\n",
       "      <td>LANEIGE</td>\n",
       "      <td>24.0</td>\n",
       "    </tr>\n",
       "  </tbody>\n",
       "</table>\n",
       "</div>"
      ],
      "text/plain": [
       "   Unnamed: 0    author_id  rating  is_recommended  helpfulness  \\\n",
       "0           0   1741593524       5             1.0          1.0   \n",
       "1           1  31423088263       1             0.0          NaN   \n",
       "\n",
       "   total_feedback_count  total_neg_feedback_count  total_pos_feedback_count  \\\n",
       "0                     2                         0                         2   \n",
       "1                     0                         0                         0   \n",
       "\n",
       "  submission_time                                        review_text  \\\n",
       "0      2023-02-01  I use this with the Nudestix “Citrus Clean Bal...   \n",
       "1      2023-03-21  I bought this lip mask after reading the revie...   \n",
       "\n",
       "                       review_title skin_tone eye_color skin_type hair_color  \\\n",
       "0  Taught me how to double cleanse!       NaN     brown       dry      black   \n",
       "1                      Disappointed       NaN       NaN       NaN        NaN   \n",
       "\n",
       "  product_id                                       product_name brand_name  \\\n",
       "0    P504322                     Gentle Hydra-Gel Face Cleanser   NUDESTIX   \n",
       "1    P420652  Lip Sleeping Mask Intense Hydration with Vitam...    LANEIGE   \n",
       "\n",
       "   price_usd  \n",
       "0       19.0  \n",
       "1       24.0  "
      ]
     },
     "execution_count": 4,
     "metadata": {},
     "output_type": "execute_result"
    }
   ],
   "source": [
    "# combine rating data by columns\n",
    "frames = [rating_df_1, rating_df_2, rating_df_3, rating_df_4, rating_df_5]\n",
    "rating_df = pd.concat(frames)\n",
    "rating_df.head(2)"
   ]
  },
  {
   "cell_type": "code",
   "execution_count": 5,
   "id": "5dc6f50d-afc1-48a0-b6a1-6b5c806733a1",
   "metadata": {},
   "outputs": [
    {
     "name": "stdout",
     "output_type": "stream",
     "text": [
      " \n",
      "Our rating data has:  1094411 rows and  19 columns\n",
      "Number of products: 2351 products\n",
      "Number of users: 503216 users\n"
     ]
    }
   ],
   "source": [
    "print(\" \\nOur rating data has: \", rating_df.shape[0], \"rows and \", rating_df.shape[1], \"columns\") \n",
    "print(\"Number of products:\", rating_df['product_id'].nunique(), \"products\")\n",
    "print(\"Number of users:\", rating_df['author_id'].nunique(), 'users')"
   ]
  },
  {
   "cell_type": "code",
   "execution_count": 6,
   "id": "3dcb4e1c-58b6-4fbc-be7a-34f838472cb9",
   "metadata": {},
   "outputs": [
    {
     "data": {
      "text/html": [
       "<div>\n",
       "<style scoped>\n",
       "    .dataframe tbody tr th:only-of-type {\n",
       "        vertical-align: middle;\n",
       "    }\n",
       "\n",
       "    .dataframe tbody tr th {\n",
       "        vertical-align: top;\n",
       "    }\n",
       "\n",
       "    .dataframe thead th {\n",
       "        text-align: right;\n",
       "    }\n",
       "</style>\n",
       "<table border=\"1\" class=\"dataframe\">\n",
       "  <thead>\n",
       "    <tr style=\"text-align: right;\">\n",
       "      <th></th>\n",
       "      <th>Unnamed: 0</th>\n",
       "      <th>author_id</th>\n",
       "      <th>rating_x</th>\n",
       "      <th>is_recommended</th>\n",
       "      <th>helpfulness</th>\n",
       "      <th>total_feedback_count</th>\n",
       "      <th>total_neg_feedback_count</th>\n",
       "      <th>total_pos_feedback_count</th>\n",
       "      <th>submission_time</th>\n",
       "      <th>review_text</th>\n",
       "      <th>...</th>\n",
       "      <th>online_only</th>\n",
       "      <th>out_of_stock</th>\n",
       "      <th>sephora_exclusive</th>\n",
       "      <th>highlights</th>\n",
       "      <th>primary_category</th>\n",
       "      <th>secondary_category</th>\n",
       "      <th>tertiary_category</th>\n",
       "      <th>child_count</th>\n",
       "      <th>child_max_price</th>\n",
       "      <th>child_min_price</th>\n",
       "    </tr>\n",
       "  </thead>\n",
       "  <tbody>\n",
       "    <tr>\n",
       "      <th>0</th>\n",
       "      <td>0</td>\n",
       "      <td>1741593524</td>\n",
       "      <td>5</td>\n",
       "      <td>1.0</td>\n",
       "      <td>1.0</td>\n",
       "      <td>2</td>\n",
       "      <td>0</td>\n",
       "      <td>2</td>\n",
       "      <td>2023-02-01</td>\n",
       "      <td>I use this with the Nudestix “Citrus Clean Bal...</td>\n",
       "      <td>...</td>\n",
       "      <td>1</td>\n",
       "      <td>0</td>\n",
       "      <td>0</td>\n",
       "      <td>['Clean at Sephora']</td>\n",
       "      <td>Skincare</td>\n",
       "      <td>Cleansers</td>\n",
       "      <td>NaN</td>\n",
       "      <td>0</td>\n",
       "      <td>NaN</td>\n",
       "      <td>NaN</td>\n",
       "    </tr>\n",
       "    <tr>\n",
       "      <th>1</th>\n",
       "      <td>1</td>\n",
       "      <td>31423088263</td>\n",
       "      <td>1</td>\n",
       "      <td>0.0</td>\n",
       "      <td>NaN</td>\n",
       "      <td>0</td>\n",
       "      <td>0</td>\n",
       "      <td>0</td>\n",
       "      <td>2023-03-21</td>\n",
       "      <td>I bought this lip mask after reading the revie...</td>\n",
       "      <td>...</td>\n",
       "      <td>0</td>\n",
       "      <td>0</td>\n",
       "      <td>1</td>\n",
       "      <td>['allure 2019 Best of Beauty Award Winner', 'C...</td>\n",
       "      <td>Skincare</td>\n",
       "      <td>Lip Balms &amp; Treatments</td>\n",
       "      <td>NaN</td>\n",
       "      <td>3</td>\n",
       "      <td>24.0</td>\n",
       "      <td>24.0</td>\n",
       "    </tr>\n",
       "  </tbody>\n",
       "</table>\n",
       "<p>2 rows × 45 columns</p>\n",
       "</div>"
      ],
      "text/plain": [
       "   Unnamed: 0    author_id  rating_x  is_recommended  helpfulness  \\\n",
       "0           0   1741593524         5             1.0          1.0   \n",
       "1           1  31423088263         1             0.0          NaN   \n",
       "\n",
       "   total_feedback_count  total_neg_feedback_count  total_pos_feedback_count  \\\n",
       "0                     2                         0                         2   \n",
       "1                     0                         0                         0   \n",
       "\n",
       "  submission_time                                        review_text  ...  \\\n",
       "0      2023-02-01  I use this with the Nudestix “Citrus Clean Bal...  ...   \n",
       "1      2023-03-21  I bought this lip mask after reading the revie...  ...   \n",
       "\n",
       "  online_only out_of_stock sephora_exclusive  \\\n",
       "0           1            0                 0   \n",
       "1           0            0                 1   \n",
       "\n",
       "                                          highlights primary_category  \\\n",
       "0                               ['Clean at Sephora']         Skincare   \n",
       "1  ['allure 2019 Best of Beauty Award Winner', 'C...         Skincare   \n",
       "\n",
       "       secondary_category tertiary_category child_count  child_max_price  \\\n",
       "0               Cleansers               NaN           0              NaN   \n",
       "1  Lip Balms & Treatments               NaN           3             24.0   \n",
       "\n",
       "  child_min_price  \n",
       "0             NaN  \n",
       "1            24.0  \n",
       "\n",
       "[2 rows x 45 columns]"
      ]
     },
     "execution_count": 6,
     "metadata": {},
     "output_type": "execute_result"
    }
   ],
   "source": [
    "# merge rating data and product data\n",
    "full_df = pd.merge(rating_df, product_df, how='inner', on='product_id')\n",
    "full_df.head(2)"
   ]
  },
  {
   "cell_type": "code",
   "execution_count": 7,
   "id": "43692b34-a858-4f26-87fd-e0ac287c9cf1",
   "metadata": {},
   "outputs": [
    {
     "data": {
      "text/plain": [
       "Index(['Unnamed: 0', 'author_id', 'rating_x', 'is_recommended', 'helpfulness',\n",
       "       'total_feedback_count', 'total_neg_feedback_count',\n",
       "       'total_pos_feedback_count', 'submission_time', 'review_text',\n",
       "       'review_title', 'skin_tone', 'eye_color', 'skin_type', 'hair_color',\n",
       "       'product_id', 'product_name_x', 'brand_name_x', 'price_usd_x',\n",
       "       'product_name_y', 'brand_id', 'brand_name_y', 'loves_count', 'rating_y',\n",
       "       'reviews', 'size', 'variation_type', 'variation_value',\n",
       "       'variation_desc', 'ingredients', 'price_usd_y', 'value_price_usd',\n",
       "       'sale_price_usd', 'limited_edition', 'new', 'online_only',\n",
       "       'out_of_stock', 'sephora_exclusive', 'highlights', 'primary_category',\n",
       "       'secondary_category', 'tertiary_category', 'child_count',\n",
       "       'child_max_price', 'child_min_price'],\n",
       "      dtype='object')"
      ]
     },
     "execution_count": 7,
     "metadata": {},
     "output_type": "execute_result"
    }
   ],
   "source": [
    "# view list of columns of dataframe\n",
    "full_df.columns"
   ]
  },
  {
   "cell_type": "code",
   "execution_count": 8,
   "id": "d763fd47-0b2e-4bc8-819d-84c89e66c81e",
   "metadata": {},
   "outputs": [],
   "source": [
    "# select relevant columns\n",
    "full_df = full_df[[\n",
    "    # columns from rating data\n",
    "    'author_id', 'rating_x', 'is_recommended', 'helpfulness',\n",
    "       'total_feedback_count', 'total_neg_feedback_count',\n",
    "       'total_pos_feedback_count', 'submission_time', 'review_text',\n",
    "       'review_title', 'skin_tone', 'eye_color', 'skin_type', 'hair_color',\n",
    "       'product_id', 'product_name_x', 'brand_name_x', 'price_usd_x',\n",
    "       'brand_id', 'ingredients', 'limited_edition',\n",
    "       'out_of_stock', 'sephora_exclusive', 'highlights', 'primary_category']]"
   ]
  },
  {
   "cell_type": "code",
   "execution_count": 9,
   "id": "833b46e9-a2a4-4227-9718-1447ef1bf6f0",
   "metadata": {},
   "outputs": [],
   "source": [
    "# Check data type and structure"
   ]
  },
  {
   "cell_type": "code",
   "execution_count": 10,
   "id": "53c69e47-7964-4a76-ae9b-4c6248af12ab",
   "metadata": {},
   "outputs": [
    {
     "name": "stdout",
     "output_type": "stream",
     "text": [
      " \n",
      "Our rating data has:  1094411 rows and  25 columns\n",
      "Number of products: 2351 products\n",
      "Number of users: 503216 users\n"
     ]
    }
   ],
   "source": [
    "print(\" \\nOur rating data has: \", full_df.shape[0], \"rows and \", full_df.shape[1], \"columns\") \n",
    "print(\"Number of products:\", full_df['product_id'].nunique(), \"products\")\n",
    "print(\"Number of users:\", full_df['author_id'].nunique(), 'users')"
   ]
  },
  {
   "cell_type": "code",
   "execution_count": 11,
   "id": "badb1881-26a1-4cf0-a537-05c426a4872b",
   "metadata": {},
   "outputs": [
    {
     "name": "stdout",
     "output_type": "stream",
     "text": [
      "\n",
      "Our original data frame has these data types: \n",
      " author_id                    object\n",
      "rating_x                      int64\n",
      "is_recommended              float64\n",
      "helpfulness                 float64\n",
      "total_feedback_count          int64\n",
      "total_neg_feedback_count      int64\n",
      "total_pos_feedback_count      int64\n",
      "submission_time              object\n",
      "review_text                  object\n",
      "review_title                 object\n",
      "skin_tone                    object\n",
      "eye_color                    object\n",
      "skin_type                    object\n",
      "hair_color                   object\n",
      "product_id                   object\n",
      "product_name_x               object\n",
      "brand_name_x                 object\n",
      "price_usd_x                 float64\n",
      "brand_id                      int64\n",
      "ingredients                  object\n",
      "limited_edition               int64\n",
      "out_of_stock                  int64\n",
      "sephora_exclusive             int64\n",
      "highlights                   object\n",
      "primary_category             object\n",
      "dtype: object\n"
     ]
    }
   ],
   "source": [
    "print(\"\\nOur original data frame has these data types: \\n\", full_df.dtypes)"
   ]
  },
  {
   "cell_type": "code",
   "execution_count": 12,
   "id": "0b40737c-5ecc-4950-a41a-a788160a71f8",
   "metadata": {},
   "outputs": [
    {
     "name": "stdout",
     "output_type": "stream",
     "text": [
      "\n",
      "Our original data frame has these data types: \n",
      " author_id                           object\n",
      "rating_x                             int64\n",
      "is_recommended                       Int64\n",
      "helpfulness                        float64\n",
      "total_feedback_count                 int64\n",
      "total_neg_feedback_count             int64\n",
      "total_pos_feedback_count             int64\n",
      "submission_time             datetime64[ns]\n",
      "review_text                         object\n",
      "review_title                        object\n",
      "skin_tone                           object\n",
      "eye_color                           object\n",
      "skin_type                           object\n",
      "hair_color                          object\n",
      "product_id                          object\n",
      "product_name_x                      object\n",
      "brand_name_x                        object\n",
      "price_usd_x                        float64\n",
      "brand_id                             int64\n",
      "ingredients                         object\n",
      "limited_edition                      int64\n",
      "out_of_stock                         int64\n",
      "sephora_exclusive                    int64\n",
      "highlights                          object\n",
      "primary_category                    object\n",
      "dtype: object\n"
     ]
    }
   ],
   "source": [
    "# change data type\n",
    "## convert to integer\n",
    "full_df['is_recommended'] = full_df['is_recommended'].astype('Int64')\n",
    "## convert the 'Date' column to datetime format\n",
    "full_df['submission_time']= pd.to_datetime(full_df['submission_time'])\n",
    "\n",
    "# check data type again\n",
    "print(\"\\nOur original data frame has these data types: \\n\", full_df.dtypes)"
   ]
  },
  {
   "cell_type": "markdown",
   "id": "83efaedd-57e9-42ee-802a-42cedbb2323b",
   "metadata": {},
   "source": [
    "# 2. Checking missing value"
   ]
  },
  {
   "cell_type": "markdown",
   "id": "d49a4fea-e6da-49aa-b526-9551507eb620",
   "metadata": {},
   "source": [
    "Some of variables has many missing values."
   ]
  },
  {
   "cell_type": "code",
   "execution_count": 13,
   "id": "04c27d28-c519-4132-9897-e25cc395cdb1",
   "metadata": {},
   "outputs": [
    {
     "name": "stdout",
     "output_type": "stream",
     "text": [
      " \n",
      "Count total NaN at each column in a DataFrame : \n",
      "\n",
      " is_recommended    167988\n",
      "helpfulness       561592\n",
      "review_text         1444\n",
      "review_title      310654\n",
      "skin_tone         170539\n",
      "eye_color         209628\n",
      "skin_type         111557\n",
      "hair_color        226768\n",
      "ingredients        22025\n",
      "highlights        113936\n",
      "dtype: int64\n"
     ]
    }
   ],
   "source": [
    "# Count total NaN at each column in a DataFrame \n",
    "missing_value = full_df.isnull().sum()\n",
    "missing_value = missing_value[missing_value > 0]\n",
    "print(\" \\nCount total NaN at each column in a DataFrame : \\n\\n\", \n",
    "      missing_value) "
   ]
  },
  {
   "cell_type": "code",
   "execution_count": 14,
   "id": "e6c7328c-2f44-48cc-a3f5-7a4247b087dd",
   "metadata": {},
   "outputs": [
    {
     "name": "stdout",
     "output_type": "stream",
     "text": [
      "['Solarize_Light2', '_classic_test_patch', '_mpl-gallery', '_mpl-gallery-nogrid', 'bmh', 'classic', 'dark_background', 'fast', 'fivethirtyeight', 'ggplot', 'grayscale', 'seaborn-v0_8', 'seaborn-v0_8-bright', 'seaborn-v0_8-colorblind', 'seaborn-v0_8-dark', 'seaborn-v0_8-dark-palette', 'seaborn-v0_8-darkgrid', 'seaborn-v0_8-deep', 'seaborn-v0_8-muted', 'seaborn-v0_8-notebook', 'seaborn-v0_8-paper', 'seaborn-v0_8-pastel', 'seaborn-v0_8-poster', 'seaborn-v0_8-talk', 'seaborn-v0_8-ticks', 'seaborn-v0_8-white', 'seaborn-v0_8-whitegrid', 'tableau-colorblind10']\n"
     ]
    }
   ],
   "source": [
    "print(plt.style.available)"
   ]
  },
  {
   "cell_type": "code",
   "execution_count": 15,
   "id": "809abb1a-bff8-4cea-8d60-f438b9752faf",
   "metadata": {},
   "outputs": [
    {
     "data": {
      "image/png": "[encoded data removed]",
      "text/plain": [
       "<Figure size 600x300 with 1 Axes>"
      ]
     },
     "metadata": {},
     "output_type": "display_data"
    }
   ],
   "source": [
    "plt.style.use(\"seaborn-v0_8-deep\")\n",
    "\n",
    "# visualize missing value\n",
    "# Create a bar graph\n",
    "missing_value.plot(kind='bar', figsize=(6, 3), color='mediumturquoise')\n",
    "plt.ylabel('Count', fontsize=12)\n",
    "plt.xticks(rotation=45)\n",
    "plt.tight_layout()\n",
    "#plt.savefig('full_data_missing_value.png', dpi=600)\n",
    "plt.show()"
   ]
  },
  {
   "cell_type": "code",
   "execution_count": 16,
   "id": "90a0b8f6-d5a0-4b9c-83ba-eaf7f1280343",
   "metadata": {},
   "outputs": [],
   "source": [
    "# remove missing values \n",
    "full_df.dropna(subset=['ingredients', 'highlights'],\n",
    "                 inplace = True)"
   ]
  },
  {
   "cell_type": "code",
   "execution_count": 17,
   "id": "ec69fb35-8236-4bb5-a9d2-31c87ae0a78d",
   "metadata": {},
   "outputs": [
    {
     "name": "stdout",
     "output_type": "stream",
     "text": [
      " \n",
      "Our rating data has:  966018 rows and  25 columns\n",
      "Number of products: 1868 products\n",
      "Number of users: 449955 users\n"
     ]
    }
   ],
   "source": [
    "print(\" \\nOur rating data has: \", full_df.shape[0], \"rows and \", full_df.shape[1], \"columns\") \n",
    "print(\"Number of products:\", full_df['product_id'].nunique(), \"products\")\n",
    "print(\"Number of users:\", full_df['author_id'].nunique(), 'users')"
   ]
  },
  {
   "cell_type": "markdown",
   "id": "a843c35f-3750-4df2-bf36-a8921d71b779",
   "metadata": {},
   "source": [
    "# 3. Remove users having too few ratings"
   ]
  },
  {
   "cell_type": "markdown",
   "id": "47009839-710f-46bb-affa-b374a4e5da2f",
   "metadata": {},
   "source": [
    "We see that many users just have only one rating, meaning that those user might not add much information for our recommendation system (especially for the memory-based CF). Thus, at this step, we might consider remove some users having too few ratings to build memory-based CF as our dataset is too sparse. Generally, model-based CF will perform better with sparse data. However, we still want to try how the memmory-based CF perform."
   ]
  },
  {
   "cell_type": "code",
   "execution_count": 18,
   "id": "f9a1a069-2133-4afd-aa5f-50f519861675",
   "metadata": {},
   "outputs": [
    {
     "data": {
      "text/plain": [
       "count    449955.000000\n",
       "mean          2.146921\n",
       "std           3.329855\n",
       "min           1.000000\n",
       "25%           1.000000\n",
       "50%           1.000000\n",
       "75%           2.000000\n",
       "max         263.000000\n",
       "dtype: float64"
      ]
     },
     "execution_count": 18,
     "metadata": {},
     "output_type": "execute_result"
    }
   ],
   "source": [
    "# check the number of ratings per each person and see its distribution\n",
    "grouped_full_df = full_df.groupby('author_id').size()\n",
    "grouped_full_df.describe()"
   ]
  },
  {
   "cell_type": "code",
   "execution_count": 19,
   "id": "6e62fec5-c34c-4232-8d3c-6a91adf13139",
   "metadata": {},
   "outputs": [
    {
     "data": {
      "text/plain": [
       "<Figure size 600x300 with 0 Axes>"
      ]
     },
     "metadata": {},
     "output_type": "display_data"
    },
    {
     "data": {
      "image/png": "[encoded data removed]",
      "text/plain": [
       "<Figure size 640x480 with 1 Axes>"
      ]
     },
     "metadata": {},
     "output_type": "display_data"
    }
   ],
   "source": [
    "# Reference\n",
    "# https://stackoverflow.com/questions/27083051/matplotlib-xticks-not-lining-up-with-histogram\n",
    "\n",
    "# visualize frequency of numbers of ratings per each user\n",
    "plot_rating_df = grouped_full_df[grouped_full_df < 10]  # filter users having less than 10 ratings\n",
    "plt.style.use(\"seaborn-v0_8-deep\")\n",
    "plt.figure(figsize=(6,3))\n",
    "counts = np.bincount(plot_rating_df)\n",
    "fig, ax = plt.subplots()\n",
    "ax.bar(range(10), counts, width=0.8, align='center', color='mediumturquoise')\n",
    "ax.set(xticks=range(10), xlim=[-1, 10])\n",
    "plt.ylabel('Count', fontsize=12)    \n",
    "plt.xlabel('Number of ratings per user', fontsize=12)\n",
    "plt.tight_layout()\n",
    "#plt.savefig('no_rating_per_user.png', dpi=600)\n",
    "plt.show()"
   ]
  },
  {
   "cell_type": "code",
   "execution_count": 20,
   "id": "37cd8738-be76-43e4-997a-a049fdce7f66",
   "metadata": {},
   "outputs": [],
   "source": [
    "# extract index of users having more than two rating\n",
    "filtered_author_ids = grouped_full_df[grouped_full_df >= 3].index.tolist()"
   ]
  },
  {
   "cell_type": "code",
   "execution_count": 21,
   "id": "fe034e1f-36d4-4368-966c-bc8c52a7fd25",
   "metadata": {},
   "outputs": [],
   "source": [
    "# Remove users having less or just two rating\n",
    "full_df = full_df[full_df['author_id'].isin(filtered_author_ids)]"
   ]
  },
  {
   "cell_type": "code",
   "execution_count": 22,
   "id": "ed0c7b37-2f05-409f-a923-59e02f4d96e2",
   "metadata": {},
   "outputs": [
    {
     "name": "stdout",
     "output_type": "stream",
     "text": [
      " \n",
      "Our rating data has:  512192 rows and  25 columns\n",
      "Number of products: 1831 products\n",
      "Number of users: 92155 users\n"
     ]
    }
   ],
   "source": [
    "print(\" \\nOur rating data has: \", full_df.shape[0], \"rows and \", full_df.shape[1], \"columns\") \n",
    "print(\"Number of products:\", full_df['product_id'].nunique(), \"products\")\n",
    "print(\"Number of users:\", full_df['author_id'].nunique(), 'users')"
   ]
  },
  {
   "cell_type": "markdown",
   "id": "d27a2632-54f9-4d94-8b8e-881a358b0d7f",
   "metadata": {},
   "source": [
    "# 4. Remove duplication"
   ]
  },
  {
   "cell_type": "code",
   "execution_count": 23,
   "id": "80d59d58-010b-4bc0-9ee5-38a72507c5ce",
   "metadata": {},
   "outputs": [],
   "source": [
    "# sort ratings by submission time\n",
    "full_df = full_df.sort_values('submission_time', ascending=True)\n",
    "# remove rating by the same user for the same product but in different year. Keep only the lastest rating\n",
    "full_df = full_df.drop_duplicates(['author_id','product_id'], keep='last') "
   ]
  },
  {
   "cell_type": "code",
   "execution_count": 24,
   "id": "01985ee0-3a1a-4a87-8a51-868165bca745",
   "metadata": {},
   "outputs": [
    {
     "name": "stdout",
     "output_type": "stream",
     "text": [
      " \n",
      "Our rating data has:  508698 rows and  25 columns\n",
      "Number of products: 1831 products\n",
      "Number of users: 92155 users\n"
     ]
    }
   ],
   "source": [
    "print(\" \\nOur rating data has: \", full_df.shape[0], \"rows and \", full_df.shape[1], \"columns\") \n",
    "print(\"Number of products:\", full_df['product_id'].nunique(), \"products\")\n",
    "print(\"Number of users:\", full_df['author_id'].nunique(), 'users')"
   ]
  },
  {
   "cell_type": "markdown",
   "id": "11e8aec1-a1a0-4c82-8d67-908e1e87e3fc",
   "metadata": {},
   "source": [
    "# 5. Add new columns"
   ]
  },
  {
   "cell_type": "markdown",
   "id": "31a41f89-eaff-4344-909a-611aced7b0e3",
   "metadata": {},
   "source": [
    "## Number of rating per product"
   ]
  },
  {
   "cell_type": "code",
   "execution_count": 25,
   "id": "29f5c87a-ba53-42f7-b4fc-a89bea484c40",
   "metadata": {},
   "outputs": [],
   "source": [
    "# group dataframe by product_id to calculate number of rating for each product \n",
    "grouped_df2 = full_df.groupby('product_id').size().reset_index(name='num_rating')\n",
    "# add \"number of rating\" column \n",
    "full_df = pd.merge(full_df, grouped_df2, on='product_id')"
   ]
  },
  {
   "cell_type": "markdown",
   "id": "3e8d21f1-3c54-4310-984a-409322a4d897",
   "metadata": {},
   "source": [
    "## Niche thresholds"
   ]
  },
  {
   "cell_type": "code",
   "execution_count": 26,
   "id": "efee97ed-672e-4e18-be2d-596676f3fc7f",
   "metadata": {},
   "outputs": [
    {
     "data": {
      "text/html": [
       "<div>\n",
       "<style scoped>\n",
       "    .dataframe tbody tr th:only-of-type {\n",
       "        vertical-align: middle;\n",
       "    }\n",
       "\n",
       "    .dataframe tbody tr th {\n",
       "        vertical-align: top;\n",
       "    }\n",
       "\n",
       "    .dataframe thead th {\n",
       "        text-align: right;\n",
       "    }\n",
       "</style>\n",
       "<table border=\"1\" class=\"dataframe\">\n",
       "  <thead>\n",
       "    <tr style=\"text-align: right;\">\n",
       "      <th></th>\n",
       "      <th>product_id</th>\n",
       "      <th>num_rating</th>\n",
       "    </tr>\n",
       "  </thead>\n",
       "  <tbody>\n",
       "    <tr>\n",
       "      <th>0</th>\n",
       "      <td>P39274</td>\n",
       "      <td>618</td>\n",
       "    </tr>\n",
       "    <tr>\n",
       "      <th>618</th>\n",
       "      <td>P449599</td>\n",
       "      <td>618</td>\n",
       "    </tr>\n",
       "    <tr>\n",
       "      <th>1236</th>\n",
       "      <td>P481817</td>\n",
       "      <td>1000</td>\n",
       "    </tr>\n",
       "    <tr>\n",
       "      <th>2236</th>\n",
       "      <td>P122762</td>\n",
       "      <td>205</td>\n",
       "    </tr>\n",
       "    <tr>\n",
       "      <th>2441</th>\n",
       "      <td>P139000</td>\n",
       "      <td>548</td>\n",
       "    </tr>\n",
       "    <tr>\n",
       "      <th>...</th>\n",
       "      <td>...</td>\n",
       "      <td>...</td>\n",
       "    </tr>\n",
       "    <tr>\n",
       "      <th>508612</th>\n",
       "      <td>P505711</td>\n",
       "      <td>82</td>\n",
       "    </tr>\n",
       "    <tr>\n",
       "      <th>508694</th>\n",
       "      <td>P504464</td>\n",
       "      <td>1</td>\n",
       "    </tr>\n",
       "    <tr>\n",
       "      <th>508695</th>\n",
       "      <td>P503915</td>\n",
       "      <td>1</td>\n",
       "    </tr>\n",
       "    <tr>\n",
       "      <th>508696</th>\n",
       "      <td>P503892</td>\n",
       "      <td>1</td>\n",
       "    </tr>\n",
       "    <tr>\n",
       "      <th>508697</th>\n",
       "      <td>P504636</td>\n",
       "      <td>1</td>\n",
       "    </tr>\n",
       "  </tbody>\n",
       "</table>\n",
       "<p>1831 rows × 2 columns</p>\n",
       "</div>"
      ],
      "text/plain": [
       "       product_id  num_rating\n",
       "0          P39274         618\n",
       "618       P449599         618\n",
       "1236      P481817        1000\n",
       "2236      P122762         205\n",
       "2441      P139000         548\n",
       "...           ...         ...\n",
       "508612    P505711          82\n",
       "508694    P504464           1\n",
       "508695    P503915           1\n",
       "508696    P503892           1\n",
       "508697    P504636           1\n",
       "\n",
       "[1831 rows x 2 columns]"
      ]
     },
     "execution_count": 26,
     "metadata": {},
     "output_type": "execute_result"
    }
   ],
   "source": [
    "# subset dataframe and remove duplicated 'product_id'\n",
    "niche_threshold_df = full_df[['product_id', 'num_rating']].drop_duplicates()\n",
    "niche_threshold_df"
   ]
  },
  {
   "cell_type": "code",
   "execution_count": 27,
   "id": "1d89f9d3-0d5f-4961-8632-dd812cefaf8f",
   "metadata": {},
   "outputs": [],
   "source": [
    "thresholds = range(1, 3001)\n",
    "niche_count_list = []   # to store number of niche product\n",
    "niche_num_rating_list = []  # to store the total number of rating of niche product\n",
    "\n",
    "# create a for loop to count number niche product (product having less than certain number of rating)\n",
    "for threshold in thresholds:\n",
    "    niche_threshold_df['niche_product'] = np.where(niche_threshold_df['num_rating'] <= threshold, 1, 0)\n",
    "    niche_count = niche_threshold_df.groupby('niche_product').size()\n",
    "    niche_count_list.append(niche_count[1])\n",
    "    niche_num_rating = niche_threshold_df.loc[niche_threshold_df['niche_product'] == 1, 'num_rating'].sum()\n",
    "    niche_num_rating_list.append(niche_num_rating)\n",
    "\n",
    "# Create a DataFrame to store result\n",
    "niche_count_df = pd.DataFrame({\n",
    "    'threshold': thresholds,\n",
    "    'niche_count': niche_count_list,\n",
    "    'num_rating_count': niche_num_rating_list\n",
    "})"
   ]
  },
  {
   "cell_type": "code",
   "execution_count": 28,
   "id": "85d82c46-73c1-4590-a41e-925af0cd3ddb",
   "metadata": {},
   "outputs": [
    {
     "data": {
      "text/html": [
       "<div>\n",
       "<style scoped>\n",
       "    .dataframe tbody tr th:only-of-type {\n",
       "        vertical-align: middle;\n",
       "    }\n",
       "\n",
       "    .dataframe tbody tr th {\n",
       "        vertical-align: top;\n",
       "    }\n",
       "\n",
       "    .dataframe thead th {\n",
       "        text-align: right;\n",
       "    }\n",
       "</style>\n",
       "<table border=\"1\" class=\"dataframe\">\n",
       "  <thead>\n",
       "    <tr style=\"text-align: right;\">\n",
       "      <th></th>\n",
       "      <th>threshold</th>\n",
       "      <th>niche_count</th>\n",
       "      <th>num_rating_count</th>\n",
       "      <th>share_total_rating</th>\n",
       "    </tr>\n",
       "  </thead>\n",
       "  <tbody>\n",
       "    <tr>\n",
       "      <th>0</th>\n",
       "      <td>1</td>\n",
       "      <td>59</td>\n",
       "      <td>59</td>\n",
       "      <td>0.000116</td>\n",
       "    </tr>\n",
       "    <tr>\n",
       "      <th>1</th>\n",
       "      <td>2</td>\n",
       "      <td>96</td>\n",
       "      <td>133</td>\n",
       "      <td>0.000261</td>\n",
       "    </tr>\n",
       "    <tr>\n",
       "      <th>2</th>\n",
       "      <td>3</td>\n",
       "      <td>124</td>\n",
       "      <td>217</td>\n",
       "      <td>0.000427</td>\n",
       "    </tr>\n",
       "    <tr>\n",
       "      <th>3</th>\n",
       "      <td>4</td>\n",
       "      <td>159</td>\n",
       "      <td>357</td>\n",
       "      <td>0.000702</td>\n",
       "    </tr>\n",
       "    <tr>\n",
       "      <th>4</th>\n",
       "      <td>5</td>\n",
       "      <td>185</td>\n",
       "      <td>487</td>\n",
       "      <td>0.000957</td>\n",
       "    </tr>\n",
       "    <tr>\n",
       "      <th>...</th>\n",
       "      <td>...</td>\n",
       "      <td>...</td>\n",
       "      <td>...</td>\n",
       "      <td>...</td>\n",
       "    </tr>\n",
       "    <tr>\n",
       "      <th>2995</th>\n",
       "      <td>2996</td>\n",
       "      <td>1824</td>\n",
       "      <td>482565</td>\n",
       "      <td>0.948628</td>\n",
       "    </tr>\n",
       "    <tr>\n",
       "      <th>2996</th>\n",
       "      <td>2997</td>\n",
       "      <td>1824</td>\n",
       "      <td>482565</td>\n",
       "      <td>0.948628</td>\n",
       "    </tr>\n",
       "    <tr>\n",
       "      <th>2997</th>\n",
       "      <td>2998</td>\n",
       "      <td>1824</td>\n",
       "      <td>482565</td>\n",
       "      <td>0.948628</td>\n",
       "    </tr>\n",
       "    <tr>\n",
       "      <th>2998</th>\n",
       "      <td>2999</td>\n",
       "      <td>1824</td>\n",
       "      <td>482565</td>\n",
       "      <td>0.948628</td>\n",
       "    </tr>\n",
       "    <tr>\n",
       "      <th>2999</th>\n",
       "      <td>3000</td>\n",
       "      <td>1824</td>\n",
       "      <td>482565</td>\n",
       "      <td>0.948628</td>\n",
       "    </tr>\n",
       "  </tbody>\n",
       "</table>\n",
       "<p>3000 rows × 4 columns</p>\n",
       "</div>"
      ],
      "text/plain": [
       "      threshold  niche_count  num_rating_count  share_total_rating\n",
       "0             1           59                59            0.000116\n",
       "1             2           96               133            0.000261\n",
       "2             3          124               217            0.000427\n",
       "3             4          159               357            0.000702\n",
       "4             5          185               487            0.000957\n",
       "...         ...          ...               ...                 ...\n",
       "2995       2996         1824            482565            0.948628\n",
       "2996       2997         1824            482565            0.948628\n",
       "2997       2998         1824            482565            0.948628\n",
       "2998       2999         1824            482565            0.948628\n",
       "2999       3000         1824            482565            0.948628\n",
       "\n",
       "[3000 rows x 4 columns]"
      ]
     },
     "execution_count": 28,
     "metadata": {},
     "output_type": "execute_result"
    }
   ],
   "source": [
    "# calculate the share of total rating for niche products\n",
    "niche_count_df['share_total_rating'] = niche_count_df['num_rating_count'] / len(full_df)\n",
    "niche_count_df"
   ]
  },
  {
   "cell_type": "code",
   "execution_count": 29,
   "id": "73297fcd-0f99-427b-978d-5d5c5952477c",
   "metadata": {},
   "outputs": [
    {
     "data": {
      "image/png": "[encoded data removed]",
      "text/plain": [
       "<Figure size 600x300 with 1 Axes>"
      ]
     },
     "metadata": {},
     "output_type": "display_data"
    }
   ],
   "source": [
    "# visualize to determine the niche threshold\n",
    "plt.style.use(\"seaborn-v0_8-deep\")\n",
    "plt.figure(figsize=(6,3))\n",
    "plt.plot(niche_count_df['threshold'], niche_count_df['share_total_rating'],\n",
    "         color='mediumturquoise')  # Plot the chart\n",
    "plt.ylabel('Share of Total rating', fontsize=12)    \n",
    "plt.xlabel('Number of rating per product', fontsize=12)\n",
    "plt.axvline(x=250, color='r', linestyle='--')\n",
    "plt.text(250, 0.8, ' Threshold: 250 ratings\\n Share:       20%', color='r')\n",
    "plt.tight_layout()\n",
    "#plt.savefig('niche_thresholds.png', dpi=600)\n",
    "plt.show()"
   ]
  },
  {
   "cell_type": "markdown",
   "id": "a96f260b-31ab-4a67-b940-2db2523bd7e3",
   "metadata": {},
   "source": [
    "## Final niche threshold"
   ]
  },
  {
   "cell_type": "code",
   "execution_count": 30,
   "id": "7259adea-1e3a-45be-b765-a77e5670df21",
   "metadata": {},
   "outputs": [
    {
     "data": {
      "text/html": [
       "<div>\n",
       "<style scoped>\n",
       "    .dataframe tbody tr th:only-of-type {\n",
       "        vertical-align: middle;\n",
       "    }\n",
       "\n",
       "    .dataframe tbody tr th {\n",
       "        vertical-align: top;\n",
       "    }\n",
       "\n",
       "    .dataframe thead th {\n",
       "        text-align: right;\n",
       "    }\n",
       "</style>\n",
       "<table border=\"1\" class=\"dataframe\">\n",
       "  <thead>\n",
       "    <tr style=\"text-align: right;\">\n",
       "      <th></th>\n",
       "      <th>product_id</th>\n",
       "      <th>niche_product</th>\n",
       "    </tr>\n",
       "  </thead>\n",
       "  <tbody>\n",
       "    <tr>\n",
       "      <th>0</th>\n",
       "      <td>P39274</td>\n",
       "      <td>0</td>\n",
       "    </tr>\n",
       "    <tr>\n",
       "      <th>618</th>\n",
       "      <td>P449599</td>\n",
       "      <td>0</td>\n",
       "    </tr>\n",
       "    <tr>\n",
       "      <th>1236</th>\n",
       "      <td>P481817</td>\n",
       "      <td>0</td>\n",
       "    </tr>\n",
       "    <tr>\n",
       "      <th>2236</th>\n",
       "      <td>P122762</td>\n",
       "      <td>1</td>\n",
       "    </tr>\n",
       "    <tr>\n",
       "      <th>2441</th>\n",
       "      <td>P139000</td>\n",
       "      <td>0</td>\n",
       "    </tr>\n",
       "    <tr>\n",
       "      <th>...</th>\n",
       "      <td>...</td>\n",
       "      <td>...</td>\n",
       "    </tr>\n",
       "    <tr>\n",
       "      <th>508612</th>\n",
       "      <td>P505711</td>\n",
       "      <td>1</td>\n",
       "    </tr>\n",
       "    <tr>\n",
       "      <th>508694</th>\n",
       "      <td>P504464</td>\n",
       "      <td>1</td>\n",
       "    </tr>\n",
       "    <tr>\n",
       "      <th>508695</th>\n",
       "      <td>P503915</td>\n",
       "      <td>1</td>\n",
       "    </tr>\n",
       "    <tr>\n",
       "      <th>508696</th>\n",
       "      <td>P503892</td>\n",
       "      <td>1</td>\n",
       "    </tr>\n",
       "    <tr>\n",
       "      <th>508697</th>\n",
       "      <td>P504636</td>\n",
       "      <td>1</td>\n",
       "    </tr>\n",
       "  </tbody>\n",
       "</table>\n",
       "<p>1831 rows × 2 columns</p>\n",
       "</div>"
      ],
      "text/plain": [
       "       product_id  niche_product\n",
       "0          P39274              0\n",
       "618       P449599              0\n",
       "1236      P481817              0\n",
       "2236      P122762              1\n",
       "2441      P139000              0\n",
       "...           ...            ...\n",
       "508612    P505711              1\n",
       "508694    P504464              1\n",
       "508695    P503915              1\n",
       "508696    P503892              1\n",
       "508697    P504636              1\n",
       "\n",
       "[1831 rows x 2 columns]"
      ]
     },
     "execution_count": 30,
     "metadata": {},
     "output_type": "execute_result"
    }
   ],
   "source": [
    "# create new column \"niche\" (dummy variable, 1 yes, 0 no)\n",
    "full_df['niche_product'] = np.where(full_df['num_rating'] <= 250, 1, 0)\n",
    "# remove duplicate of product\n",
    "niche_counts = full_df[['product_id', 'niche_product']].drop_duplicates()\n",
    "niche_counts"
   ]
  },
  {
   "cell_type": "code",
   "execution_count": 31,
   "id": "96a9bc5b-1452-4d96-8e36-869045f3f1c7",
   "metadata": {},
   "outputs": [
    {
     "data": {
      "text/plain": [
       "niche_product\n",
       "0     575\n",
       "1    1256\n",
       "dtype: int64"
      ]
     },
     "execution_count": 31,
     "metadata": {},
     "output_type": "execute_result"
    }
   ],
   "source": [
    "# count the number of product per each type of \"niche_product\" variable\n",
    "niche_counts = niche_counts.groupby('niche_product').size()\n",
    "niche_counts"
   ]
  },
  {
   "cell_type": "code",
   "execution_count": 32,
   "id": "376740ab-cccc-40ec-ba38-9206eab627b5",
   "metadata": {},
   "outputs": [
    {
     "data": {
      "image/png": "[encoded data removed]",
      "text/plain": [
       "<Figure size 600x300 with 1 Axes>"
      ]
     },
     "metadata": {},
     "output_type": "display_data"
    }
   ],
   "source": [
    "# plot\n",
    "fig = plt.figure(figsize = (6, 3))\n",
    "plt.bar(x=niche_counts.index, height=niche_counts.values,color='mediumturquoise')\n",
    "plt.xlabel('Niche Product',fontsize=12)\n",
    "plt.ylabel('Count',fontsize=12)\n",
    "plt.xticks(niche_counts.index)\n",
    "plt.tight_layout()\n",
    "#plt.savefig('no_niche_product.png', dpi=600)\n",
    "plt.show()"
   ]
  },
  {
   "cell_type": "code",
   "execution_count": 33,
   "id": "487f008d-0cf7-41e3-a0fe-b0ab48de1fd2",
   "metadata": {},
   "outputs": [
    {
     "name": "stdout",
     "output_type": "stream",
     "text": [
      " \n",
      "Our rating data has:  508698 rows and  27 columns\n",
      "Number of products: 1831 products\n",
      "Number of users: 92155 users\n"
     ]
    }
   ],
   "source": [
    "print(\" \\nOur rating data has: \", full_df.shape[0], \"rows and \", full_df.shape[1], \"columns\") \n",
    "print(\"Number of products:\", full_df['product_id'].nunique(), \"products\")\n",
    "print(\"Number of users:\", full_df['author_id'].nunique(), 'users')"
   ]
  },
  {
   "cell_type": "markdown",
   "id": "0707909e-ddde-4fb7-80b2-825098d97f76",
   "metadata": {},
   "source": [
    "# 6. Save file"
   ]
  },
  {
   "cell_type": "code",
   "execution_count": 34,
   "id": "a74e8765-dcac-4d6c-a849-6e6441cbceac",
   "metadata": {},
   "outputs": [],
   "source": [
    "#full_df.to_csv(path_or_buf='data/full_data_cleaned.csv', index=False)"
   ]
  },
  {
   "cell_type": "code",
   "execution_count": null,
   "id": "c72d7ad5-782d-438c-9eaf-c58089914cb2",
   "metadata": {},
   "outputs": [],
   "source": []
  },
  {
   "cell_type": "code",
   "execution_count": null,
   "id": "e342f89d-31d8-4831-a817-8ec1d8cc3a7a",
   "metadata": {},
   "outputs": [],
   "source": []
  },
  {
   "cell_type": "code",
   "execution_count": null,
   "id": "ff98506d-41db-4ee2-a54d-d13d3bc3f7c7",
   "metadata": {},
   "outputs": [],
   "source": []
  },
  {
   "cell_type": "code",
   "execution_count": null,
   "id": "5311e60a-8643-4143-b8c7-0e0d9891a005",
   "metadata": {},
   "outputs": [],
   "source": []
  }
 ],
 "metadata": {
  "kernelspec": {
   "display_name": "Python 3 (ipykernel)",
   "language": "python",
   "name": "python3"
  },
  "language_info": {
   "codemirror_mode": {
    "name": "ipython",
    "version": 3
   },
   "file_extension": ".py",
   "mimetype": "text/x-python",
   "name": "python",
   "nbconvert_exporter": "python",
   "pygments_lexer": "ipython3",
   "version": "3.11.8"
  }
 },
 "nbformat": 4,
 "nbformat_minor": 5
}
